{
 "cells": [
  {
   "cell_type": "code",
   "execution_count": 1,
   "metadata": {},
   "outputs": [],
   "source": [
    "import numpy as np\n",
    "import pandas as pd\n",
    "\n",
    "def parse_coords(coords):\n",
    "    return [float(x) for x in coords.split('-')]\n",
    "\n",
    "def get_x(filename):\n",
    "    x_pd = pd.read_csv(filename, header=None)\n",
    "    x_pd_parsed = x_pd.applymap(parse_coords)\n",
    "    x_np = x_pd_parsed.to_numpy()\n",
    "    return np.array([[x for x in y] for y in x_np[:]])\n",
    "\n",
    "def get_y(filename):\n",
    "    x_pd = pd.read_csv(filename, header=None)\n",
    "    return x_pd.to_numpy()"
   ]
  },
  {
   "cell_type": "code",
   "execution_count": 2,
   "metadata": {},
   "outputs": [],
   "source": [
    "X = get_x('data/train_x.csv')\n",
    "y = get_y('data/train_y.csv').reshape((-1))\n",
    "\n",
    "X_test = get_x('data/test_x.csv')\n",
    "y_test = get_y('data/test_y.csv').reshape((-1))"
   ]
  },
  {
   "cell_type": "code",
   "execution_count": 3,
   "metadata": {},
   "outputs": [],
   "source": [
    "import matplotlib.pyplot as plt\n",
    "from matplotlib.path import Path\n",
    "import matplotlib.patches as patches\n",
    "\n",
    "\n",
    "\n",
    "\n",
    "def plot_path(verts, ax):\n",
    "    ax.axis('off')\n",
    "    \n",
    "    xs, ys = zip(*verts)\n",
    "    ax.plot(xs, ys, 'x--', lw=2, color='black', ms=10)\n",
    "\n",
    "    i=0\n",
    "    for x,y in verts:\n",
    "        rand_x,rand_y = np.random.rand(2)-0.5\n",
    "        ax.text(x+rand_x, y+rand_y, 'P'+str(i))\n",
    "        i += 1\n",
    "\n",
    "    min_x,max_x = np.min(verts[:,0]),np.max(verts[:,0])\n",
    "    min_y,max_y = np.min(verts[:,1]),np.max(verts[:,1])\n",
    "\n",
    "\n",
    "    ax.set_xlim(min_x - 1, max_x + 1)\n",
    "    ax.set_ylim(min_y - 1, max_y + 1)\n",
    "    \n",
    "def plot_many(samples, labels=None):\n",
    "    n = (samples.shape[0])\n",
    "    if n < 20 :\n",
    "        cols = 5\n",
    "        rows = int((n+4)/5)\n",
    "        fig = plt.figure(figsize=(cols * 4, rows * 4))\n",
    "    else :\n",
    "        cols = 8\n",
    "        rows = int((n+cols-1)/cols)\n",
    "        fig = plt.figure(figsize=(cols * 3, rows * 3))\n",
    "    \n",
    "    for i in range(n):\n",
    "        sub = fig.add_subplot(rows, cols, i + 1)\n",
    "        if labels is not None :\n",
    "            sub.title.set_text('y={0}'.format(labels[i]))\n",
    "        else :\n",
    "            sub.title.set_text('nolabel')\n",
    "        plot_path(samples[i], sub)\n",
    "\n",
    "n = 10\n",
    "plot_many(X[:n], y[:n])"
   ]
  },
  {
   "cell_type": "code",
   "execution_count": 58,
   "metadata": {},
   "outputs": [],
   "source": [
    "import torch.nn as nn\n",
    "import torch\n",
    "import torch.nn.functional as F\n",
    "\n",
    "torch.manual_seed(1)\n",
    "\n",
    "class Net(nn.Module):\n",
    "\n",
    "    def __init__(self, input_dim, hidden_dim, output_dim):\n",
    "        super(Net, self).__init__()\n",
    "        self.hidden_dim = hidden_dim\n",
    "\n",
    "#         self.word_embeddings = nn.Embedding(vocab_size, embedding_dim)\n",
    "\n",
    "        # The LSTM takes word embeddings as inputs, and outputs hidden states\n",
    "        # with dimensionality hidden_dim.\n",
    "        self.lstm = nn.LSTM(input_dim, hidden_dim)\n",
    "\n",
    "        # The linear layer that maps from hidden state space to tag space\n",
    "        self.hidden2tag = nn.Linear(hidden_dim, output_dim)\n",
    "\n",
    "    def forward(self, sentence):\n",
    "        hidden = (torch.randn(1, 1, self.hidden_dim), torch.randn(1, 1, self.hidden_dim))\n",
    "        lstm_out, _ = self.lstm(sentence, hidden)\n",
    "        tag_space = self.hidden2tag(lstm_out.view(len(sentence), -1))\n",
    "        tag_scores = F.log_softmax(tag_space, dim=1)\n",
    "        return tag_scores[-1]\n",
    "\n",
    "n_hidden = 128\n",
    "n_letters = 2\n",
    "n_categories = 4\n",
    "\n",
    "model = Net(n_letters, n_hidden, n_categories)"
   ]
  },
  {
   "cell_type": "code",
   "execution_count": 59,
   "metadata": {},
   "outputs": [
    {
     "name": "stdout",
     "output_type": "stream",
     "text": [
      "torch.Size([5, 1, 2])\n",
      "tensor([-1.2465, -1.2498, -1.5059, -1.5890], grad_fn=<SelectBackward>)\n"
     ]
    }
   ],
   "source": [
    "from torchvision.transforms.functional import to_tensor\n",
    "\n",
    "\n",
    "Xt = to_tensor(X).float().permute(1,2,0)\n",
    "inp = Xt[0].view(len(Xt[0]), 1, -1)\n",
    "hidden = (torch.randn(1, 1, n_hidden), torch.randn(1, 1, n_hidden))\n",
    "print(inp.shape)\n",
    "output = model(inp)\n",
    "yt = torch.zeros(y.shape[0],4)\n",
    "for i,idx in enumerate(y):\n",
    "    yt[i,idx] = 1\n",
    "yt[:5]\n",
    "print(output)"
   ]
  },
  {
   "cell_type": "code",
   "execution_count": 60,
   "metadata": {},
   "outputs": [
    {
     "name": "stdout",
     "output_type": "stream",
     "text": [
      "tensor([-1.3009, -1.2563, -1.4999, -1.5148])\n"
     ]
    }
   ],
   "source": [
    "import torch.optim as optim\n",
    "\n",
    "loss_function = nn.NLLLoss()\n",
    "# optimizer = optim.Adam(model.parameters(), lr=0.004)\n",
    "\n",
    "# See what the scores are before training\n",
    "# Note that element i,j of the output is the score for tag j for word i.\n",
    "# Here we don't need to train, so the code is wrapped in torch.no_grad()\n",
    "with torch.no_grad():\n",
    "    row = Xt[0]\n",
    "    sentence_in = row.view(len(row), 1, -1)\n",
    "    tag_scores = model(sentence_in)\n",
    "    print(tag_scores)\n",
    "\n",
    "loss_log = []\n",
    "    "
   ]
  },
  {
   "cell_type": "code",
   "execution_count": 61,
   "metadata": {},
   "outputs": [
    {
     "name": "stdout",
     "output_type": "stream",
     "text": [
      "epoch 0 loss 8394.780756400898\n",
      "epoch 1 loss 8251.531229866669\n",
      "epoch 2 loss 8184.489191234112\n",
      "epoch 3 loss 8143.3194277100265\n",
      "epoch 4 loss 8090.819266079925\n",
      "epoch 5 loss 8025.21210849518\n",
      "epoch 6 loss 8020.309989829548\n",
      "epoch 7 loss 7984.190435836092\n",
      "epoch 8 loss 7909.151311963331\n",
      "epoch 9 loss 7927.1693938476965\n",
      "epoch 10 loss 7889.809148994042\n",
      "epoch 11 loss 7815.1109565345105\n",
      "epoch 12 loss 7856.972178614116\n",
      "epoch 13 loss 7861.813305146643\n",
      "epoch 14 loss 7776.256646658643\n",
      "epoch 15 loss 7786.872176796547\n",
      "epoch 16 loss 7800.768051209627\n",
      "epoch 17 loss 7766.4390785078285\n",
      "epoch 18 loss 7777.259663366247\n",
      "epoch 19 loss 7728.094218691811\n",
      "epoch 20 loss 7748.371404793346\n",
      "epoch 21 loss 7739.255648131482\n",
      "epoch 22 loss 7718.808132812672\n",
      "epoch 23 loss 7697.673892526887\n",
      "epoch 24 loss 7737.55011886335\n",
      "epoch 25 loss 7705.530994093395\n",
      "epoch 26 loss 7705.097502408491\n",
      "epoch 27 loss 7750.932543517076\n",
      "epoch 28 loss 7702.118142776424\n",
      "epoch 29 loss 7673.451671059243\n",
      "epoch 30 loss 7660.66650572652\n",
      "epoch 31 loss 7664.370259812218\n",
      "epoch 32 loss 7660.804593951711\n",
      "epoch 33 loss 7691.049731057137\n",
      "epoch 34 loss 7674.153729592217\n",
      "epoch 35 loss 7653.552584559831\n",
      "epoch 36 loss 7665.4382840970065\n",
      "epoch 37 loss 7697.261074327427\n",
      "epoch 38 loss 7642.967508407361\n",
      "epoch 39 loss 7635.393225089763\n"
     ]
    }
   ],
   "source": [
    "optimizer = optim.Adam(model.parameters(), lr=0.003)\n",
    "for i in range(len(Xt)) :\n",
    "    # Step 1. Remember that Pytorch accumulates gradients.\n",
    "    # We need to clear them out before each instance\n",
    "    model.zero_grad()\n",
    "\n",
    "    # Step 2. Get our inputs ready for the network, that is, turn them into\n",
    "    # Tensors of word indices.\n",
    "    row = Xt[i][:-1]\n",
    "    sentence_in = row.view(len(row), 1, -1)\n",
    "    targets = torch.tensor([y[i]], dtype=torch.long)\n",
    "\n",
    "    # Step 3. Run our forward pass.\n",
    "    tag_scores = model(sentence_in)\n",
    "    tag_scores = tag_scores.view(1,-1)\n",
    "\n",
    "    # Step 4. Compute the loss, gradients, and update the parameters by\n",
    "    #  calling optimizer.step()\n",
    "    loss = loss_function(tag_scores, targets)\n",
    "    acc_loss += loss.item()\n",
    "    loss.backward()\n",
    "    optimizer.step()\n",
    "\n",
    "\n",
    "\n",
    "for epoch in range(40):  # again, normally you would NOT do 300 epochs, it is toy data\n",
    "    acc_loss = 0\n",
    "    optimizer = optim.Adam(model.parameters(), lr=0.003)\n",
    "    for i in range(len(Xt)) :\n",
    "        # Step 1. Remember that Pytorch accumulates gradients.\n",
    "        # We need to clear them out before each instance\n",
    "        model.zero_grad()\n",
    "\n",
    "        # Step 2. Get our inputs ready for the network, that is, turn them into\n",
    "        # Tensors of word indices.\n",
    "        row = Xt[i]\n",
    "        sentence_in = row.view(len(row), 1, -1)\n",
    "        targets = torch.tensor([y[i]], dtype=torch.long)\n",
    "        \n",
    "        # Step 3. Run our forward pass.\n",
    "        tag_scores = model(sentence_in)\n",
    "        tag_scores = tag_scores.view(1,-1)\n",
    "\n",
    "        # Step 4. Compute the loss, gradients, and update the parameters by\n",
    "        #  calling optimizer.step()\n",
    "        loss = loss_function(tag_scores, targets)\n",
    "        acc_loss += loss.item()\n",
    "        loss.backward()\n",
    "        optimizer.step()\n",
    "    loss_log.append(acc_loss)\n",
    "    print(\"epoch\", epoch, \"loss\", acc_loss)"
   ]
  },
  {
   "cell_type": "code",
   "execution_count": 62,
   "metadata": {},
   "outputs": [
    {
     "name": "stdout",
     "output_type": "stream",
     "text": [
      "tensor([-0.6516, -2.7805, -0.9323, -3.7669])\n"
     ]
    }
   ],
   "source": [
    "# See what the scores are after training\n",
    "with torch.no_grad():\n",
    "    row = Xt[0]\n",
    "    sentence_in = row.view(len(row), 1, -1)\n",
    "    tag_scores = model(sentence_in)\n",
    "    print(tag_scores)"
   ]
  },
  {
   "cell_type": "code",
   "execution_count": 67,
   "metadata": {},
   "outputs": [
    {
     "data": {
      "text/plain": [
       "<matplotlib.legend.Legend at 0x7f751ce0fb10>"
      ]
     },
     "execution_count": 67,
     "metadata": {},
     "output_type": "execute_result"
    },
    {
     "data": {
      "image/png": "[encoded data removed]",
      "text/plain": [
       "<Figure size 432x288 with 1 Axes>"
      ]
     },
     "metadata": {
      "needs_background": "light"
     },
     "output_type": "display_data"
    }
   ],
   "source": [
    "import matplotlib.pyplot as plt\n",
    "import matplotlib.ticker as ticker\n",
    "\n",
    "plt.figure()\n",
    "plt.plot(loss_log, label='truncated')\n",
    "plt.plot(loss_normal, label='normal')\n",
    "plt.legend()"
   ]
  },
  {
   "cell_type": "code",
   "execution_count": 64,
   "metadata": {},
   "outputs": [
    {
     "name": "stdout",
     "output_type": "stream",
     "text": [
      "acc: 0.6592222222222223\n"
     ]
    },
    {
     "data": {
      "text/plain": [
       "0.6592222222222223"
      ]
     },
     "execution_count": 64,
     "metadata": {},
     "output_type": "execute_result"
    }
   ],
   "source": [
    "def categoryFromOutput(output):\n",
    "    top_n, top_i = output.topk(1)\n",
    "    return top_i[0].item()\n",
    "\n",
    "def accuracy(testX, testY):\n",
    "    sum_ok = 0\n",
    "# Go through a bunch of examples and record which are correctly guessed\n",
    "    for i in range(testX.shape[0]):\n",
    "        category = testY[i]\n",
    "        line = testX[i].reshape(-1)\n",
    "        category_tensor = torch.tensor([testY[i]], dtype=torch.long)\n",
    "        line_tensor = testX[i].reshape(testX[i].shape[0],1,testX[i].shape[1])\n",
    "\n",
    "        output = model(line_tensor)\n",
    "        guess = categoryFromOutput(output)\n",
    "        if guess == category :\n",
    "            sum_ok += 1\n",
    "            \n",
    "    acc = sum_ok/testX.shape[0]\n",
    "    print('acc:', acc)\n",
    "    return acc\n",
    "\n",
    "accuracy(Xt, y)"
   ]
  },
  {
   "cell_type": "code",
   "execution_count": 46,
   "metadata": {},
   "outputs": [
    {
     "name": "stdout",
     "output_type": "stream",
     "text": [
      "acc: 0.6461111111111111\n"
     ]
    },
    {
     "data": {
      "text/plain": [
       "0.6461111111111111"
      ]
     },
     "execution_count": 46,
     "metadata": {},
     "output_type": "execute_result"
    }
   ],
   "source": [
    "accuracy(Xt, y)"
   ]
  },
  {
   "cell_type": "code",
   "execution_count": 65,
   "metadata": {},
   "outputs": [
    {
     "name": "stdout",
     "output_type": "stream",
     "text": [
      "acc: 0.637\n"
     ]
    },
    {
     "data": {
      "text/plain": [
       "0.637"
      ]
     },
     "execution_count": 65,
     "metadata": {},
     "output_type": "execute_result"
    }
   ],
   "source": [
    "X_test_tens = to_tensor(X_test).float().permute(1,2,0)\n",
    "accuracy(X_test_tens, y_test)"
   ]
  },
  {
   "cell_type": "code",
   "execution_count": 57,
   "metadata": {},
   "outputs": [],
   "source": [
    "loss_normal = loss_log"
   ]
  },
  {
   "cell_type": "code",
   "execution_count": null,
   "metadata": {},
   "outputs": [],
   "source": []
  }
 ],
 "metadata": {
  "kernelspec": {
   "display_name": "Python 3",
   "language": "python",
   "name": "python3"
  },
  "language_info": {
   "codemirror_mode": {
    "name": "ipython",
    "version": 3
   },
   "file_extension": ".py",
   "mimetype": "text/x-python",
   "name": "python",
   "nbconvert_exporter": "python",
   "pygments_lexer": "ipython3",
   "version": "3.7.4"
  }
 },
 "nbformat": 4,
 "nbformat_minor": 4
}

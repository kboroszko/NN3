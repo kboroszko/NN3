{
 "cells": [
  {
   "cell_type": "code",
   "execution_count": null,
   "metadata": {},
   "outputs": [],
   "source": [
    "%matplotlib inline"
   ]
  },
  {
   "cell_type": "code",
   "execution_count": 1,
   "metadata": {},
   "outputs": [],
   "source": [
    "import numpy as np\n",
    "import pandas as pd\n",
    "\n",
    "def parse_coords(coords):\n",
    "    return [float(x) for x in coords.split('-')]\n",
    "\n",
    "def get_x(filename):\n",
    "    x_pd = pd.read_csv(filename, header=None)\n",
    "    x_pd_parsed = x_pd.applymap(parse_coords)\n",
    "    x_np = x_pd_parsed.to_numpy()\n",
    "    return np.array([[x for x in y] for y in x_np[:]])\n",
    "\n",
    "def get_y(filename):\n",
    "    x_pd = pd.read_csv(filename, header=None)\n",
    "    return x_pd.to_numpy()"
   ]
  },
  {
   "cell_type": "code",
   "execution_count": 2,
   "metadata": {},
   "outputs": [],
   "source": [
    "X = get_x('data/train_x.csv')\n",
    "y = get_y('data/train_y.csv').reshape((-1))\n",
    "\n",
    "X_test = get_x('data/test_x.csv')\n",
    "y_test = get_y('data/test_y.csv').reshape((-1))"
   ]
  },
  {
   "cell_type": "code",
   "execution_count": 3,
   "metadata": {},
   "outputs": [],
   "source": [
    "import matplotlib.pyplot as plt\n",
    "from matplotlib.path import Path\n",
    "import matplotlib.patches as patches\n",
    "\n",
    "\n",
    "\n",
    "\n",
    "def plot_path(verts, ax):\n",
    "    ax.axis('off')\n",
    "    \n",
    "    xs, ys = zip(*verts)\n",
    "    ax.plot(xs, ys, 'x--', lw=2, color='black', ms=10)\n",
    "\n",
    "    i=0\n",
    "    for x,y in verts:\n",
    "        rand_x,rand_y = np.random.rand(2)-0.5\n",
    "        ax.text(x+rand_x, y+rand_y, 'P'+str(i))\n",
    "        i += 1\n",
    "\n",
    "    min_x,max_x = np.min(verts[:,0]),np.max(verts[:,0])\n",
    "    min_y,max_y = np.min(verts[:,1]),np.max(verts[:,1])\n",
    "\n",
    "\n",
    "    ax.set_xlim(min_x - 1, max_x + 1)\n",
    "    ax.set_ylim(min_y - 1, max_y + 1)\n",
    "    \n",
    "def plot_many(samples, labels=None):\n",
    "    n = (samples.shape[0])\n",
    "    if n < 20 :\n",
    "        cols = 5\n",
    "        rows = int((n+4)/5)\n",
    "        fig = plt.figure(figsize=(cols * 4, rows * 4))\n",
    "    else :\n",
    "        cols = 8\n",
    "        rows = int((n+cols-1)/cols)\n",
    "        fig = plt.figure(figsize=(cols * 3, rows * 3))\n",
    "    \n",
    "    for i in range(n):\n",
    "        sub = fig.add_subplot(rows, cols, i + 1)\n",
    "        if labels is not None :\n",
    "            sub.title.set_text('y={0}'.format(labels[i]))\n",
    "        else :\n",
    "            sub.title.set_text('nolabel')\n",
    "        plot_path(samples[i], sub)\n",
    "\n",
    "n = 10\n",
    "plot_many(X[:n], y[:n])"
   ]
  },
  {
   "cell_type": "code",
   "execution_count": 4,
   "metadata": {},
   "outputs": [],
   "source": [
    "import torch.nn as nn\n",
    "import torch\n",
    "import torch.nn.functional as F\n",
    "\n",
    "torch.manual_seed(1)\n",
    "\n",
    "class Net(nn.Module):\n",
    "\n",
    "    def __init__(self, input_dim, hidden_dim, output_dim, drop_prob):\n",
    "        super(Net, self).__init__()\n",
    "        self.hidden_dim = hidden_dim\n",
    "\n",
    "#         self.word_embeddings = nn.Embedding(vocab_size, embedding_dim)\n",
    "\n",
    "        # The LSTM takes word embeddings as inputs, and outputs hidden states\n",
    "        # with dimensionality hidden_dim.\n",
    "        self.lstm = nn.LSTM(input_dim, hidden_dim, batch_first=True)\n",
    "\n",
    "        # The linear layer that maps from hidden state space to tag space\n",
    "        self.hidden2tag = nn.Linear(hidden_dim, output_dim)\n",
    "        self.dropout = nn.Dropout(drop_prob)\n",
    "\n",
    "    def forward(self, sentence):\n",
    "        hidden = (torch.randn(1,sentence.shape[0],  self.hidden_dim), torch.randn(1,sentence.shape[0], self.hidden_dim))\n",
    "        lstm_out, _ = self.lstm(sentence, hidden)\n",
    "#         print(lstm_out.shape)\n",
    "        lstm_out = lstm_out[:,-1,:]\n",
    "        \n",
    "        out = self.dropout(lstm_out)\n",
    "#         print(lstm_out.shape)\n",
    "        tag_space = self.hidden2tag(out)\n",
    "#         print(tag_space.shape)\n",
    "        tag_scores = F.log_softmax(tag_space, dim=1)\n",
    "#         print(tag_scores.shape)\n",
    "        return tag_scores\n",
    "\n",
    "n_hidden = 256\n",
    "n_letters = 2\n",
    "n_categories = 4\n",
    "droput_prob = 0.1\n",
    "\n",
    "model = Net(n_letters, n_hidden, n_categories, droput_prob)"
   ]
  },
  {
   "cell_type": "code",
   "execution_count": 5,
   "metadata": {},
   "outputs": [
    {
     "name": "stdout",
     "output_type": "stream",
     "text": [
      "torch.Size([9000, 5, 2])\n",
      "5\n",
      "tensor([[-1.4357, -1.2808, -1.3181, -1.5297],\n",
      "        [-1.4375, -1.3163, -1.3427, -1.4558]], grad_fn=<LogSoftmaxBackward>)\n"
     ]
    }
   ],
   "source": [
    "from torchvision.transforms.functional import to_tensor\n",
    "\n",
    "\n",
    "Xt = to_tensor(X).float().permute(1,2,0)\n",
    "print(Xt.shape)\n",
    "inp = Xt[0:2,:,:]\n",
    "print(inp.shape[1])\n",
    "# print(inp.shape)\n",
    "output = model(inp)\n",
    "print(output)"
   ]
  },
  {
   "cell_type": "code",
   "execution_count": 6,
   "metadata": {},
   "outputs": [
    {
     "name": "stdout",
     "output_type": "stream",
     "text": [
      "tensor([[-1.4121, -1.3520, -1.3174, -1.4706]])\n",
      "tensor([0])\n",
      "tensor(1.4121)\n"
     ]
    }
   ],
   "source": [
    "import torch.optim as optim\n",
    "\n",
    "loss_function = nn.NLLLoss()\n",
    "# optimizer = optim.Adam(model.parameters(), lr=0.004)\n",
    "\n",
    "# See what the scores are before training\n",
    "# Note that element i,j of the output is the score for tag j for word i.\n",
    "# Here we don't need to train, so the code is wrapped in torch.no_grad()\n",
    "with torch.no_grad():\n",
    "    row = Xt[0:1]\n",
    "    sentence_in = row\n",
    "    tag_scores = model(sentence_in)\n",
    "    print(tag_scores)\n",
    "    targets = torch.tensor(y[0:1], dtype=torch.long)\n",
    "    print(targets)\n",
    "    los = loss_function(tag_scores, targets)\n",
    "    print(los)\n",
    "\n",
    "loss_log = []\n",
    "\n",
    "\n",
    "    "
   ]
  },
  {
   "cell_type": "code",
   "execution_count": 7,
   "metadata": {},
   "outputs": [
    {
     "name": "stdout",
     "output_type": "stream",
     "text": [
      "first step done\n",
      "epoch 0 loss 7289.035611748695\n",
      "epoch 10 loss 6843.8716077804565\n",
      "epoch 20 loss 6715.440772175789\n",
      "epoch 30 loss 6573.239336013794\n",
      "epoch 40 loss 6527.899285554886\n",
      "epoch 50 loss 6460.180653333664\n",
      "epoch 60 loss 6383.235769271851\n",
      "epoch 70 loss 6340.527765154839\n",
      "epoch 80 loss 6276.194890737534\n",
      "epoch 90 loss 6217.484940290451\n",
      "epoch 100 loss 6210.972220301628\n",
      "epoch 110 loss 6084.069433808327\n",
      "epoch 120 loss 6094.849516153336\n",
      "epoch 130 loss 6035.876306891441\n",
      "epoch 140 loss 6029.11248922348\n"
     ]
    },
    {
     "data": {
      "text/plain": [
       "[<matplotlib.lines.Line2D at 0x7f761f11c550>]"
      ]
     },
     "execution_count": 7,
     "metadata": {},
     "output_type": "execute_result"
    },
    {
     "data": {
      "image/png": "[encoded data removed]",
      "text/plain": [
       "<Figure size 432x288 with 1 Axes>"
      ]
     },
     "metadata": {
      "needs_background": "light"
     },
     "output_type": "display_data"
    }
   ],
   "source": [
    "\n",
    "optimizer = optim.Adam(model.parameters(), lr=0.01)\n",
    "batch_size = 100\n",
    "batches = int(len(Xt)/batch_size)\n",
    "\n",
    "for i in range(batches) :\n",
    "        # Step 1. Remember that Pytorch accumulates gradients.\n",
    "        # We need to clear them out before each instance\n",
    "        model.zero_grad()\n",
    "\n",
    "        # Step 2. Get our inputs ready for the network, that is, turn them into\n",
    "        # Tensors of word indices.\n",
    "        n = i * batch_size\n",
    "        sentence_in = Xt[n:n+batch_size,:4,:]\n",
    "        targets = torch.tensor(y[n:n+batch_size], dtype=torch.long)\n",
    "        \n",
    "        # Step 3. Run our forward pass.\n",
    "        tag_scores = model(sentence_in)\n",
    "\n",
    "        # Step 4. Compute the loss, gradients, and update the parameters by\n",
    "        #  calling optimizer.step()\n",
    "        loss = loss_function(tag_scores, targets)\n",
    "#         acc_loss += loss.item()\n",
    "        loss.backward()\n",
    "        optimizer.step()\n",
    "\n",
    "print(\"first step done\")\n",
    "\n",
    "\n",
    "for epoch in range(150):  # again, normally you would NOT do 300 epochs, it is toy data\n",
    "    acc_loss = 0\n",
    "    \n",
    "    for i in range(batches) :\n",
    "        # Step 1. Remember that Pytorch accumulates gradients.\n",
    "        # We need to clear them out before each instance\n",
    "        model.zero_grad()\n",
    "\n",
    "        # Step 2. Get our inputs ready for the network, that is, turn them into\n",
    "        # Tensors of word indices.\n",
    "        n = i * batch_size\n",
    "        sentence_in = Xt[n:n+batch_size]\n",
    "        targets = torch.tensor(y[n:n+batch_size], dtype=torch.long)\n",
    "        \n",
    "        # Step 3. Run our forward pass.\n",
    "        tag_scores = model(sentence_in)\n",
    "\n",
    "        # Step 4. Compute the loss, gradients, and update the parameters by\n",
    "        #  calling optimizer.step()\n",
    "        loss = loss_function(tag_scores, targets)\n",
    "        acc_loss += loss.item()\n",
    "        loss.backward()\n",
    "        optimizer.step()\n",
    "    loss_log.append(acc_loss)\n",
    "    if epoch % 10 == 0 :\n",
    "        print(\"epoch\", epoch, \"loss\", acc_loss*batches)\n",
    "\n",
    "\n",
    "plt.figure()\n",
    "plt.plot(loss_log, label='truncated')"
   ]
  },
  {
   "cell_type": "code",
   "execution_count": 11,
   "metadata": {},
   "outputs": [
    {
     "name": "stdout",
     "output_type": "stream",
     "text": [
      "tensor([[-0.1971, -2.4941, -2.3861, -5.4374]])\n",
      "tensor([0])\n",
      "tensor(0.1971)\n"
     ]
    }
   ],
   "source": [
    "# See what the scores are after training\n",
    "with torch.no_grad():\n",
    "    row = Xt[:1]\n",
    "    sentence_in = row\n",
    "    tag_scores = model(sentence_in)\n",
    "    print(tag_scores)\n",
    "    targets = torch.tensor(y[0:1], dtype=torch.long)\n",
    "    print(targets)\n",
    "    los = loss_function(tag_scores, targets)\n",
    "    print(los)"
   ]
  },
  {
   "cell_type": "code",
   "execution_count": 8,
   "metadata": {},
   "outputs": [
    {
     "name": "stdout",
     "output_type": "stream",
     "text": [
      "torch.Size([9000, 4])\n",
      "torch.Size([9000])\n",
      "acc: 0.7004444599151611\n"
     ]
    },
    {
     "data": {
      "text/plain": [
       "0.7004444599151611"
      ]
     },
     "execution_count": 8,
     "metadata": {},
     "output_type": "execute_result"
    }
   ],
   "source": [
    "def accuracy(testX, testY):\n",
    "# Go through a bunch of examples and record which are correctly guessed\n",
    "    with torch.no_grad():\n",
    "        tag_scores = model(testX)\n",
    "        print(tag_scores.shape)\n",
    "        targets = torch.tensor(testY, dtype=torch.long)\n",
    "        print(targets.shape)\n",
    "            \n",
    "    acc = ((tag_scores.argmax(dim=1) == targets).sum().float()/float(testY.shape[0])).item()\n",
    "    print('acc:', acc)\n",
    "    return acc\n",
    "\n",
    "accuracy(Xt, y)"
   ]
  },
  {
   "cell_type": "code",
   "execution_count": 33,
   "metadata": {},
   "outputs": [
    {
     "name": "stdout",
     "output_type": "stream",
     "text": [
      "torch.Size([9000, 4])\n",
      "torch.Size([9000])\n",
      "torch.Size([9000])\n",
      "tensor([0, 1, 3, 2, 1])\n",
      "tensor([0, 1, 3, 3, 3])\n",
      "tensor(0.6000)\n"
     ]
    }
   ],
   "source": [
    "with torch.no_grad():\n",
    "        tag_scores = model(Xt)\n",
    "        print(tag_scores.shape)\n",
    "        print(tag_scores.argmax(dim=1).shape)\n",
    "        targets = torch.tensor(y, dtype=torch.long)\n",
    "        print(targets.shape)\n",
    "        print(tag_scores.argmax(dim=1)[:5])\n",
    "        print(targets[:5])\n",
    "        print((tag_scores.argmax(dim=1) == targets)[:5].sum()/)"
   ]
  },
  {
   "cell_type": "code",
   "execution_count": 9,
   "metadata": {},
   "outputs": [
    {
     "name": "stdout",
     "output_type": "stream",
     "text": [
      "torch.Size([9000, 4])\n",
      "torch.Size([9000])\n",
      "acc: 0.7043333053588867\n"
     ]
    },
    {
     "data": {
      "text/plain": [
       "0.7043333053588867"
      ]
     },
     "execution_count": 9,
     "metadata": {},
     "output_type": "execute_result"
    }
   ],
   "source": [
    "accuracy(Xt, y)"
   ]
  },
  {
   "cell_type": "code",
   "execution_count": 10,
   "metadata": {},
   "outputs": [
    {
     "name": "stdout",
     "output_type": "stream",
     "text": [
      "torch.Size([1000, 4])\n",
      "torch.Size([1000])\n",
      "acc: 0.6570000052452087\n"
     ]
    },
    {
     "data": {
      "text/plain": [
       "0.6570000052452087"
      ]
     },
     "execution_count": 10,
     "metadata": {},
     "output_type": "execute_result"
    }
   ],
   "source": [
    "X_test_tens = to_tensor(X_test).float().permute(1,2,0)\n",
    "accuracy(X_test_tens, y_test)"
   ]
  },
  {
   "cell_type": "code",
   "execution_count": null,
   "metadata": {},
   "outputs": [],
   "source": []
  },
  {
   "cell_type": "code",
   "execution_count": null,
   "metadata": {},
   "outputs": [],
   "source": []
  }
 ],
 "metadata": {
  "kernelspec": {
   "display_name": "Python 3",
   "language": "python",
   "name": "python3"
  },
  "language_info": {
   "codemirror_mode": {
    "name": "ipython",
    "version": 3
   },
   "file_extension": ".py",
   "mimetype": "text/x-python",
   "name": "python",
   "nbconvert_exporter": "python",
   "pygments_lexer": "ipython3",
   "version": "3.7.4"
  }
 },
 "nbformat": 4,
 "nbformat_minor": 4
}

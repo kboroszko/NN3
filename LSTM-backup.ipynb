{
 "cells": [
  {
   "cell_type": "code",
   "execution_count": 1,
   "metadata": {},
   "outputs": [],
   "source": [
    "import numpy as np\n",
    "import pandas as pd\n",
    "\n",
    "def parse_coords(coords):\n",
    "    return [float(x) for x in coords.split('-')]\n",
    "\n",
    "def get_x(filename):\n",
    "    x_pd = pd.read_csv(filename, header=None)\n",
    "    x_pd_parsed = x_pd.applymap(parse_coords)\n",
    "    x_np = x_pd_parsed.to_numpy()\n",
    "    return np.array([[x for x in y] for y in x_np[:]])\n",
    "\n",
    "def get_y(filename):\n",
    "    x_pd = pd.read_csv(filename, header=None)\n",
    "    return x_pd.to_numpy()"
   ]
  },
  {
   "cell_type": "code",
   "execution_count": 2,
   "metadata": {},
   "outputs": [],
   "source": [
    "X = get_x('data/train_x.csv')\n",
    "y = get_y('data/train_y.csv').reshape((-1))\n",
    "\n",
    "X_test = get_x('data/test_x.csv')\n",
    "y_test = get_y('data/test_y.csv').reshape((-1))"
   ]
  },
  {
   "cell_type": "code",
   "execution_count": 3,
   "metadata": {},
   "outputs": [],
   "source": [
    "import matplotlib.pyplot as plt\n",
    "from matplotlib.path import Path\n",
    "import matplotlib.patches as patches\n",
    "\n",
    "\n",
    "\n",
    "\n",
    "def plot_path(verts, ax):\n",
    "    ax.axis('off')\n",
    "    \n",
    "    xs, ys = zip(*verts)\n",
    "    ax.plot(xs, ys, 'x--', lw=2, color='black', ms=10)\n",
    "\n",
    "    i=0\n",
    "    for x,y in verts:\n",
    "        rand_x,rand_y = np.random.rand(2)-0.5\n",
    "        ax.text(x+rand_x, y+rand_y, 'P'+str(i))\n",
    "        i += 1\n",
    "\n",
    "    min_x,max_x = np.min(verts[:,0]),np.max(verts[:,0])\n",
    "    min_y,max_y = np.min(verts[:,1]),np.max(verts[:,1])\n",
    "\n",
    "\n",
    "    ax.set_xlim(min_x - 1, max_x + 1)\n",
    "    ax.set_ylim(min_y - 1, max_y + 1)\n",
    "    \n",
    "def plot_many(samples, labels=None):\n",
    "    n = (samples.shape[0])\n",
    "    if n < 20 :\n",
    "        cols = 5\n",
    "        rows = int((n+4)/5)\n",
    "        fig = plt.figure(figsize=(cols * 4, rows * 4))\n",
    "    else :\n",
    "        cols = 8\n",
    "        rows = int((n+cols-1)/cols)\n",
    "        fig = plt.figure(figsize=(cols * 3, rows * 3))\n",
    "    \n",
    "    for i in range(n):\n",
    "        sub = fig.add_subplot(rows, cols, i + 1)\n",
    "        if labels is not None :\n",
    "            sub.title.set_text('y={0}'.format(labels[i]))\n",
    "        else :\n",
    "            sub.title.set_text('nolabel')\n",
    "        plot_path(samples[i], sub)\n",
    "\n",
    "n = 10\n",
    "plot_many(X[:n], y[:n])"
   ]
  },
  {
   "cell_type": "code",
   "execution_count": 4,
   "metadata": {},
   "outputs": [],
   "source": [
    "import torch.nn as nn\n",
    "import torch\n",
    "import torch.nn.functional as F\n",
    "\n",
    "torch.manual_seed(1)\n",
    "\n",
    "class Net(nn.Module):\n",
    "\n",
    "    def __init__(self, input_dim, hidden_dim, output_dim):\n",
    "        super(Net, self).__init__()\n",
    "        self.hidden_dim = hidden_dim\n",
    "\n",
    "#         self.word_embeddings = nn.Embedding(vocab_size, embedding_dim)\n",
    "\n",
    "        # The LSTM takes word embeddings as inputs, and outputs hidden states\n",
    "        # with dimensionality hidden_dim.\n",
    "        self.lstm = nn.LSTM(input_dim, hidden_dim, batch_first=True)\n",
    "\n",
    "        # The linear layer that maps from hidden state space to tag space\n",
    "        self.hidden2tag = nn.Linear(hidden_dim, output_dim)\n",
    "\n",
    "    def forward(self, sentence):\n",
    "        hidden = (torch.randn(1,sentence.shape[0],  self.hidden_dim), torch.randn(1,sentence.shape[0], self.hidden_dim))\n",
    "        lstm_out, _ = self.lstm(sentence, hidden)\n",
    "#         print(lstm_out.shape)\n",
    "        lstm_out = lstm_out[:,-1,:]\n",
    "#         print(lstm_out.shape)\n",
    "        tag_space = self.hidden2tag(lstm_out)\n",
    "#         print(tag_space.shape)\n",
    "        tag_scores = F.log_softmax(tag_space, dim=1)\n",
    "#         print(tag_scores.shape)\n",
    "        return tag_scores\n",
    "\n",
    "n_hidden = 256\n",
    "n_letters = 2\n",
    "n_categories = 4\n",
    "\n",
    "model = Net(n_letters, n_hidden, n_categories)"
   ]
  },
  {
   "cell_type": "code",
   "execution_count": 5,
   "metadata": {},
   "outputs": [
    {
     "name": "stdout",
     "output_type": "stream",
     "text": [
      "torch.Size([9000, 5, 2])\n",
      "5\n",
      "tensor([[-1.4309, -1.3221, -1.3003, -1.5056],\n",
      "        [-1.4772, -1.3053, -1.3434, -1.4285]], grad_fn=<LogSoftmaxBackward>)\n"
     ]
    }
   ],
   "source": [
    "from torchvision.transforms.functional import to_tensor\n",
    "\n",
    "\n",
    "Xt = to_tensor(X).float().permute(1,2,0)\n",
    "print(Xt.shape)\n",
    "inp = Xt[0:2,:,:]\n",
    "print(inp.shape[1])\n",
    "# print(inp.shape)\n",
    "output = model(inp)\n",
    "print(output)"
   ]
  },
  {
   "cell_type": "code",
   "execution_count": 6,
   "metadata": {},
   "outputs": [
    {
     "name": "stdout",
     "output_type": "stream",
     "text": [
      "tensor([[-1.4537, -1.3515, -1.2742, -1.4793]])\n",
      "tensor([0])\n",
      "tensor(1.4537)\n"
     ]
    }
   ],
   "source": [
    "import torch.optim as optim\n",
    "\n",
    "loss_function = nn.NLLLoss()\n",
    "# optimizer = optim.Adam(model.parameters(), lr=0.004)\n",
    "\n",
    "# See what the scores are before training\n",
    "# Note that element i,j of the output is the score for tag j for word i.\n",
    "# Here we don't need to train, so the code is wrapped in torch.no_grad()\n",
    "with torch.no_grad():\n",
    "    row = Xt[0:1]\n",
    "    sentence_in = row\n",
    "    tag_scores = model(sentence_in)\n",
    "    print(tag_scores)\n",
    "    targets = torch.tensor(y[0:1], dtype=torch.long)\n",
    "    print(targets)\n",
    "    los = loss_function(tag_scores, targets)\n",
    "    print(los)\n",
    "\n",
    "loss_log = []\n",
    "\n",
    "\n",
    "    "
   ]
  },
  {
   "cell_type": "code",
   "execution_count": 8,
   "metadata": {},
   "outputs": [
    {
     "name": "stdout",
     "output_type": "stream",
     "text": [
      "first step done\n",
      "epoch 0 loss 7254.806714057922\n",
      "epoch 1 loss 7172.887195944786\n",
      "epoch 2 loss 7066.885206699371\n",
      "epoch 3 loss 7073.397288322449\n",
      "epoch 4 loss 6949.938957095146\n",
      "epoch 5 loss 6934.847062826157\n",
      "epoch 6 loss 6872.2979056835175\n",
      "epoch 7 loss 6834.140741229057\n",
      "epoch 8 loss 6806.653291583061\n",
      "epoch 9 loss 6735.151392817497\n",
      "epoch 10 loss 6773.3903431892395\n",
      "epoch 11 loss 6770.376065969467\n",
      "epoch 12 loss 6720.105847120285\n",
      "epoch 13 loss 6713.281964063644\n",
      "epoch 14 loss 6700.487424731255\n",
      "epoch 15 loss 6682.895003557205\n",
      "epoch 16 loss 6665.949520468712\n",
      "epoch 17 loss 6663.55948984623\n",
      "epoch 18 loss 6619.430344104767\n",
      "epoch 19 loss 6583.683251738548\n",
      "epoch 20 loss 6578.1643760204315\n",
      "epoch 21 loss 6578.550233244896\n",
      "epoch 22 loss 6560.445676445961\n",
      "epoch 23 loss 6571.67999625206\n",
      "epoch 24 loss 6533.504077792168\n",
      "epoch 25 loss 6520.837415456772\n",
      "epoch 26 loss 6529.36961889267\n",
      "epoch 27 loss 6520.620376467705\n",
      "epoch 28 loss 6506.507440209389\n",
      "epoch 29 loss 6478.392975926399\n",
      "epoch 30 loss 6482.143964767456\n",
      "epoch 31 loss 6449.242191910744\n",
      "epoch 32 loss 6463.451360464096\n",
      "epoch 33 loss 6460.296873450279\n",
      "epoch 34 loss 6458.5050719976425\n",
      "epoch 35 loss 6488.004698753357\n",
      "epoch 36 loss 6414.816505908966\n",
      "epoch 37 loss 6405.19214451313\n",
      "epoch 38 loss 6393.900972604752\n",
      "epoch 39 loss 6397.757624387741\n",
      "epoch 40 loss 6406.846482753754\n",
      "epoch 41 loss 6424.888179302216\n",
      "epoch 42 loss 6370.195008516312\n",
      "epoch 43 loss 6371.2087869644165\n",
      "epoch 44 loss 6379.395178556442\n",
      "epoch 45 loss 6338.458821773529\n",
      "epoch 46 loss 6360.231610536575\n",
      "epoch 47 loss 6336.225786209106\n",
      "epoch 48 loss 6293.457421660423\n",
      "epoch 49 loss 6324.948368668556\n",
      "epoch 50 loss 6295.1284968853\n",
      "epoch 51 loss 6324.940869212151\n",
      "epoch 52 loss 6339.851580262184\n",
      "epoch 53 loss 6245.619102716446\n",
      "epoch 54 loss 6316.186101436615\n",
      "epoch 55 loss 6308.346959352493\n",
      "epoch 56 loss 6270.837934613228\n",
      "epoch 57 loss 6227.341779470444\n",
      "epoch 58 loss 6272.977371811867\n",
      "epoch 59 loss 6250.590008497238\n",
      "epoch 60 loss 6236.365138292313\n",
      "epoch 61 loss 6237.110508084297\n",
      "epoch 62 loss 6185.729897618294\n",
      "epoch 63 loss 6217.589390873909\n",
      "epoch 64 loss 6232.554851174355\n",
      "epoch 65 loss 6195.123079419136\n",
      "epoch 66 loss 6251.0684180259705\n",
      "epoch 67 loss 6184.206156134605\n",
      "epoch 68 loss 6171.785082221031\n",
      "epoch 69 loss 6153.389693498611\n",
      "epoch 70 loss 6200.9062063694\n",
      "epoch 71 loss 6142.360589504242\n",
      "epoch 72 loss 6121.019985079765\n",
      "epoch 73 loss 6122.793472409248\n",
      "epoch 74 loss 6150.290776491165\n",
      "epoch 75 loss 6140.807000398636\n",
      "epoch 76 loss 6084.1085511446\n",
      "epoch 77 loss 6110.365317463875\n",
      "epoch 78 loss 6079.3184369802475\n",
      "epoch 79 loss 6020.932958722115\n",
      "epoch 80 loss 6115.541358590126\n",
      "epoch 81 loss 6067.742972373962\n",
      "epoch 82 loss 6034.632480740547\n",
      "epoch 83 loss 6057.377817034721\n",
      "epoch 84 loss 6059.919746518135\n",
      "epoch 85 loss 6018.703479766846\n",
      "epoch 86 loss 6008.829147219658\n",
      "epoch 87 loss 5977.443552017212\n",
      "epoch 88 loss 6045.355287194252\n",
      "epoch 89 loss 6008.04939687252\n",
      "epoch 90 loss 5964.053653478622\n",
      "epoch 91 loss 5994.096336364746\n",
      "epoch 92 loss 6028.38703751564\n",
      "epoch 93 loss 5976.561099886894\n",
      "epoch 94 loss 5924.943371415138\n",
      "epoch 95 loss 5953.464034795761\n",
      "epoch 96 loss 5954.970535039902\n",
      "epoch 97 loss 5917.675443291664\n",
      "epoch 98 loss 5995.981473326683\n",
      "epoch 99 loss 5985.94261944294\n"
     ]
    },
    {
     "data": {
      "text/plain": [
       "[<matplotlib.lines.Line2D at 0x7f005ccfe210>]"
      ]
     },
     "execution_count": 8,
     "metadata": {},
     "output_type": "execute_result"
    },
    {
     "data": {
      "image/png": "[encoded data removed]",
      "text/plain": [
       "<Figure size 432x288 with 1 Axes>"
      ]
     },
     "metadata": {
      "needs_background": "light"
     },
     "output_type": "display_data"
    }
   ],
   "source": [
    "\n",
    "optimizer = optim.Adam(model.parameters(), lr=0.01)\n",
    "batch_size = 100\n",
    "batches = int(len(Xt)/batch_size)\n",
    "\n",
    "for i in range(batches) :\n",
    "        # Step 1. Remember that Pytorch accumulates gradients.\n",
    "        # We need to clear them out before each instance\n",
    "        model.zero_grad()\n",
    "\n",
    "        # Step 2. Get our inputs ready for the network, that is, turn them into\n",
    "        # Tensors of word indices.\n",
    "        n = i * batch_size\n",
    "        sentence_in = Xt[n:n+batch_size,:4,:]\n",
    "        targets = torch.tensor(y[n:n+batch_size], dtype=torch.long)\n",
    "        \n",
    "        # Step 3. Run our forward pass.\n",
    "        tag_scores = model(sentence_in)\n",
    "\n",
    "        # Step 4. Compute the loss, gradients, and update the parameters by\n",
    "        #  calling optimizer.step()\n",
    "        loss = loss_function(tag_scores, targets)\n",
    "#         acc_loss += loss.item()\n",
    "        loss.backward()\n",
    "        optimizer.step()\n",
    "\n",
    "print(\"first step done\")\n",
    "\n",
    "\n",
    "for epoch in range(100):  # again, normally you would NOT do 300 epochs, it is toy data\n",
    "    acc_loss = 0\n",
    "    \n",
    "    for i in range(batches) :\n",
    "        # Step 1. Remember that Pytorch accumulates gradients.\n",
    "        # We need to clear them out before each instance\n",
    "        model.zero_grad()\n",
    "\n",
    "        # Step 2. Get our inputs ready for the network, that is, turn them into\n",
    "        # Tensors of word indices.\n",
    "        n = i * batch_size\n",
    "        sentence_in = Xt[n:n+batch_size]\n",
    "        targets = torch.tensor(y[n:n+batch_size], dtype=torch.long)\n",
    "        \n",
    "        # Step 3. Run our forward pass.\n",
    "        tag_scores = model(sentence_in)\n",
    "\n",
    "        # Step 4. Compute the loss, gradients, and update the parameters by\n",
    "        #  calling optimizer.step()\n",
    "        loss = loss_function(tag_scores, targets)\n",
    "        acc_loss += loss.item()\n",
    "        loss.backward()\n",
    "        optimizer.step()\n",
    "    loss_log.append(acc_loss)\n",
    "    if epoch % 10 == 0 :\n",
    "        print(\"epoch\", epoch, \"loss\", acc_loss*batches)\n",
    "\n",
    "\n",
    "plt.figure()\n",
    "plt.plot(loss_log, label='truncated')"
   ]
  },
  {
   "cell_type": "code",
   "execution_count": 11,
   "metadata": {},
   "outputs": [
    {
     "name": "stdout",
     "output_type": "stream",
     "text": [
      "tensor([[-0.1971, -2.4941, -2.3861, -5.4374]])\n",
      "tensor([0])\n",
      "tensor(0.1971)\n"
     ]
    }
   ],
   "source": [
    "# See what the scores are after training\n",
    "with torch.no_grad():\n",
    "    row = Xt[:1]\n",
    "    sentence_in = row\n",
    "    tag_scores = model(sentence_in)\n",
    "    print(tag_scores)\n",
    "    targets = torch.tensor(y[0:1], dtype=torch.long)\n",
    "    print(targets)\n",
    "    los = loss_function(tag_scores, targets)\n",
    "    print(los)"
   ]
  },
  {
   "cell_type": "code",
   "execution_count": 9,
   "metadata": {},
   "outputs": [
    {
     "name": "stdout",
     "output_type": "stream",
     "text": [
      "torch.Size([9000, 4])\n",
      "torch.Size([9000])\n",
      "acc: 0.7017777562141418\n"
     ]
    },
    {
     "data": {
      "text/plain": [
       "0.7017777562141418"
      ]
     },
     "execution_count": 9,
     "metadata": {},
     "output_type": "execute_result"
    }
   ],
   "source": [
    "def accuracy(testX, testY):\n",
    "# Go through a bunch of examples and record which are correctly guessed\n",
    "    with torch.no_grad():\n",
    "        tag_scores = model(testX)\n",
    "        print(tag_scores.shape)\n",
    "        targets = torch.tensor(testY, dtype=torch.long)\n",
    "        print(targets.shape)\n",
    "            \n",
    "    acc = ((tag_scores.argmax(dim=1) == targets).sum().float()/float(testY.shape[0])).item()\n",
    "    print('acc:', acc)\n",
    "    return acc\n",
    "\n",
    "accuracy(Xt, y)"
   ]
  },
  {
   "cell_type": "code",
   "execution_count": 33,
   "metadata": {},
   "outputs": [
    {
     "name": "stdout",
     "output_type": "stream",
     "text": [
      "torch.Size([9000, 4])\n",
      "torch.Size([9000])\n",
      "torch.Size([9000])\n",
      "tensor([0, 1, 3, 2, 1])\n",
      "tensor([0, 1, 3, 3, 3])\n",
      "tensor(0.6000)\n"
     ]
    }
   ],
   "source": [
    "with torch.no_grad():\n",
    "        tag_scores = model(Xt)\n",
    "        print(tag_scores.shape)\n",
    "        print(tag_scores.argmax(dim=1).shape)\n",
    "        targets = torch.tensor(y, dtype=torch.long)\n",
    "        print(targets.shape)\n",
    "        print(tag_scores.argmax(dim=1)[:5])\n",
    "        print(targets[:5])\n",
    "        print((tag_scores.argmax(dim=1) == targets)[:5].sum()/)"
   ]
  },
  {
   "cell_type": "code",
   "execution_count": 16,
   "metadata": {},
   "outputs": [
    {
     "name": "stdout",
     "output_type": "stream",
     "text": [
      "torch.Size([9000, 4])\n",
      "torch.Size([9000])\n",
      "acc: 0.6769999861717224\n"
     ]
    },
    {
     "data": {
      "text/plain": [
       "0.6769999861717224"
      ]
     },
     "execution_count": 16,
     "metadata": {},
     "output_type": "execute_result"
    }
   ],
   "source": [
    "accuracy(Xt, y)"
   ]
  },
  {
   "cell_type": "code",
   "execution_count": 10,
   "metadata": {},
   "outputs": [
    {
     "name": "stdout",
     "output_type": "stream",
     "text": [
      "torch.Size([1000, 4])\n",
      "torch.Size([1000])\n",
      "acc: 0.6549999713897705\n"
     ]
    },
    {
     "data": {
      "text/plain": [
       "0.6549999713897705"
      ]
     },
     "execution_count": 10,
     "metadata": {},
     "output_type": "execute_result"
    }
   ],
   "source": [
    "X_test_tens = to_tensor(X_test).float().permute(1,2,0)\n",
    "accuracy(X_test_tens, y_test)"
   ]
  }
 ],
 "metadata": {
  "kernelspec": {
   "display_name": "Python 3",
   "language": "python",
   "name": "python3"
  },
  "language_info": {
   "codemirror_mode": {
    "name": "ipython",
    "version": 3
   },
   "file_extension": ".py",
   "mimetype": "text/x-python",
   "name": "python",
   "nbconvert_exporter": "python",
   "pygments_lexer": "ipython3",
   "version": "3.7.4"
  }
 },
 "nbformat": 4,
 "nbformat_minor": 4
}
